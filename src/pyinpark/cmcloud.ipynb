{
 "cells": [
  {
   "cell_type": "code",
   "execution_count": 10,
   "metadata": {},
   "outputs": [],
   "source": [
    "import requests\n",
    "import os\n",
    "from dotenv import load_dotenv\n"
   ]
  },
  {
   "cell_type": "code",
   "execution_count": 11,
   "metadata": {},
   "outputs": [
    {
     "data": {
      "text/plain": [
       "True"
      ]
     },
     "execution_count": 11,
     "metadata": {},
     "output_type": "execute_result"
    }
   ],
   "source": [
    "load_dotenv()"
   ]
  },
  {
   "cell_type": "code",
   "execution_count": 12,
   "metadata": {},
   "outputs": [],
   "source": [
    "\n",
    "login = requests.get(os.getenv(\"LOGIN_URL\"))\n"
   ]
  },
  {
   "cell_type": "code",
   "execution_count": 13,
   "metadata": {},
   "outputs": [],
   "source": [
    "auth = requests.post(\n",
    "    os.getenv(\"AUTH_URL\"),\n",
    "    headers={\"X-CSRFToken\": login.cookies[\"csrftoken\"],},\n",
    "    cookies=login.cookies,\n",
    "    # cspell: disable-next-line\n",
    "    data={\"username\": os.getenv(\"USR\"), \"password\": os.getenv(\"PWD\")},\n",
    ")\n"
   ]
  },
  {
   "cell_type": "code",
   "execution_count": 14,
   "metadata": {},
   "outputs": [
    {
     "data": {
      "text/plain": [
       "{'status': 0, 'msg': 'ok', 'data': None}"
      ]
     },
     "execution_count": 14,
     "metadata": {},
     "output_type": "execute_result"
    }
   ],
   "source": [
    "# auth.content.decode(\"unicode-escape\")\n",
    "auth.json()"
   ]
  },
  {
   "cell_type": "code",
   "execution_count": 15,
   "metadata": {},
   "outputs": [],
   "source": [
    "query = requests.post(\n",
    "    os.getenv(\"QUERY_URL\"),\n",
    "    headers={\"X-CSRFToken\": auth.cookies[\"csrftoken\"],},\n",
    "    cookies=auth.cookies,\n",
    "    data={\n",
    "        \"db_name\": os.getenv(\"DB_NAME\"),\n",
    "        \"instance_name\": os.getenv(\"INSTANCE_NAME\"),\n",
    "        \"limit_num\": 0,\n",
    "        \"schema_name\": \"\",\n",
    "        # cspell: disable-next-line\n",
    "        \"sql_content\": \"select 1\",\n",
    "        \"tb_name\": \"\",\n",
    "    },\n",
    ")\n"
   ]
  },
  {
   "cell_type": "code",
   "execution_count": 16,
   "metadata": {},
   "outputs": [
    {
     "data": {
      "text/plain": [
       "{'full_sql': 'select 1 limit 99999;',\n",
       " 'is_execute': False,\n",
       " 'checked': None,\n",
       " 'is_masked': False,\n",
       " 'query_time': 0.004983,\n",
       " 'mask_rule_hit': False,\n",
       " 'mask_time': '',\n",
       " 'warning': None,\n",
       " 'error': None,\n",
       " 'is_critical': False,\n",
       " 'rows': [[1]],\n",
       " 'column_list': ['1'],\n",
       " 'status': None,\n",
       " 'affected_rows': 1,\n",
       " 'seconds_behind_master': None}"
      ]
     },
     "execution_count": 16,
     "metadata": {},
     "output_type": "execute_result"
    }
   ],
   "source": [
    "query.json()['data']"
   ]
  }
 ],
 "metadata": {
  "kernelspec": {
   "display_name": "Python 3.8.5 ('base')",
   "language": "python",
   "name": "python3"
  },
  "language_info": {
   "codemirror_mode": {
    "name": "ipython",
    "version": 3
   },
   "file_extension": ".py",
   "mimetype": "text/x-python",
   "name": "python",
   "nbconvert_exporter": "python",
   "pygments_lexer": "ipython3",
   "version": "3.8.5"
  },
  "orig_nbformat": 4,
  "vscode": {
   "interpreter": {
    "hash": "c47b3fd94286b9788ca24a5dc76812a7f3d81a041a874dbfccf1db12dc8e64b6"
   }
  }
 },
 "nbformat": 4,
 "nbformat_minor": 2
}
